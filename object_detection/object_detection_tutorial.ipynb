{
 "cells": [
  {
   "cell_type": "markdown",
   "metadata": {},
   "source": [
    "# Object Detection Demo\n",
    "Welcome to the object detection inference walkthrough!  This notebook will walk you step by step through the process of using a pre-trained model to detect objects in an image. Make sure to follow the [installation instructions](https://github.com/tensorflow/models/blob/master/research/object_detection/g3doc/installation.md) before you start."
   ]
  },
  {
   "cell_type": "markdown",
   "metadata": {},
   "source": [
    "# Imports"
   ]
  },
  {
   "cell_type": "code",
   "execution_count": 91,
   "metadata": {
    "collapsed": true,
    "scrolled": true
   },
   "outputs": [],
   "source": [
    "import numpy as np\n",
    "import os\n",
    "import six.moves.urllib as urllib\n",
    "import sys\n",
    "import tarfile\n",
    "import tensorflow as tf\n",
    "import zipfile\n",
    "\n",
    "from collections import defaultdict\n",
    "from io import StringIO\n",
    "from matplotlib import pyplot as plt\n",
    "from PIL import Image\n",
    "\n",
    "if tf.__version__ != '1.4.0':\n",
    "  raise ImportError('Please upgrade your tensorflow installation to v1.4.0!')\n"
   ]
  },
  {
   "cell_type": "markdown",
   "metadata": {},
   "source": [
    "## Env setup"
   ]
  },
  {
   "cell_type": "code",
   "execution_count": 92,
   "metadata": {
    "collapsed": true
   },
   "outputs": [],
   "source": [
    "# This is needed to display the images.\n",
    "%matplotlib inline\n",
    "\n",
    "# This is needed since the notebook is stored in the object_detection folder.\n",
    "sys.path.append(\"..\")"
   ]
  },
  {
   "cell_type": "markdown",
   "metadata": {},
   "source": [
    "## Object detection imports\n",
    "Here are the imports from the object detection module."
   ]
  },
  {
   "cell_type": "code",
   "execution_count": 93,
   "metadata": {
    "collapsed": true
   },
   "outputs": [],
   "source": [
    "from utils import label_map_util\n",
    "\n",
    "from utils import visualization_utils as vis_util"
   ]
  },
  {
   "cell_type": "markdown",
   "metadata": {},
   "source": [
    "# Model preparation "
   ]
  },
  {
   "cell_type": "markdown",
   "metadata": {},
   "source": [
    "## Variables\n",
    "\n",
    "Any model exported using the `export_inference_graph.py` tool can be loaded here simply by changing `PATH_TO_CKPT` to point to a new .pb file.  \n",
    "\n",
    "By default we use an \"SSD with Mobilenet\" model here. See the [detection model zoo](https://github.com/tensorflow/models/blob/master/research/object_detection/g3doc/detection_model_zoo.md) for a list of other models that can be run out-of-the-box with varying speeds and accuracies."
   ]
  },
  {
   "cell_type": "code",
   "execution_count": 94,
   "metadata": {
    "collapsed": true
   },
   "outputs": [],
   "source": [
    "# What model to download.\n",
    "MODEL_NAME = 'ssd_mobilenet_v1_coco_2017_11_17'\n",
    "MODEL_FILE = MODEL_NAME + '.tar.gz'\n",
    "DOWNLOAD_BASE = 'http://download.tensorflow.org/models/object_detection/'\n",
    "\n",
    "# Path to frozen detection graph. This is the actual model that is used for the object detection.\n",
    "PATH_TO_CKPT = MODEL_NAME + '/frozen_inference_graph.pb'\n",
    "\n",
    "# List of the strings that is used to add correct label for each box.\n",
    "PATH_TO_LABELS = os.path.join('data', 'mscoco_label_map.pbtxt')\n",
    "\n",
    "NUM_CLASSES = 90"
   ]
  },
  {
   "cell_type": "markdown",
   "metadata": {},
   "source": [
    "## Download Model"
   ]
  },
  {
   "cell_type": "code",
   "execution_count": 95,
   "metadata": {
    "collapsed": true
   },
   "outputs": [],
   "source": [
    "opener = urllib.request.URLopener()\n",
    "opener.retrieve(DOWNLOAD_BASE + MODEL_FILE, MODEL_FILE)\n",
    "tar_file = tarfile.open(MODEL_FILE)\n",
    "for file in tar_file.getmembers():\n",
    "  file_name = os.path.basename(file.name)\n",
    "  if 'frozen_inference_graph.pb' in file_name:\n",
    "    tar_file.extract(file, os.getcwd())"
   ]
  },
  {
   "cell_type": "markdown",
   "metadata": {},
   "source": [
    "## Load a (frozen) Tensorflow model into memory."
   ]
  },
  {
   "cell_type": "code",
   "execution_count": 96,
   "metadata": {
    "collapsed": true
   },
   "outputs": [],
   "source": [
    "detection_graph = tf.Graph()\n",
    "with detection_graph.as_default():\n",
    "  od_graph_def = tf.GraphDef()\n",
    "  with tf.gfile.GFile(PATH_TO_CKPT, 'rb') as fid:\n",
    "    serialized_graph = fid.read()\n",
    "    od_graph_def.ParseFromString(serialized_graph)\n",
    "    tf.import_graph_def(od_graph_def, name='')"
   ]
  },
  {
   "cell_type": "markdown",
   "metadata": {},
   "source": [
    "## Loading label map\n",
    "Label maps map indices to category names, so that when our convolution network predicts `5`, we know that this corresponds to `airplane`.  Here we use internal utility functions, but anything that returns a dictionary mapping integers to appropriate string labels would be fine"
   ]
  },
  {
   "cell_type": "code",
   "execution_count": 97,
   "metadata": {
    "collapsed": true
   },
   "outputs": [],
   "source": [
    "label_map = label_map_util.load_labelmap(PATH_TO_LABELS)\n",
    "categories = label_map_util.convert_label_map_to_categories(label_map, max_num_classes=NUM_CLASSES, use_display_name=True)\n",
    "category_index = label_map_util.create_category_index(categories)"
   ]
  },
  {
   "cell_type": "markdown",
   "metadata": {},
   "source": [
    "## Helper code"
   ]
  },
  {
   "cell_type": "code",
   "execution_count": 114,
   "metadata": {
    "collapsed": true
   },
   "outputs": [],
   "source": [
    "def load_image_into_numpy_array(image):\n",
    "  (im_width, im_height) = image.size\n",
    "  return np.array(image.getdata()).reshape(\n",
    "      (im_height, im_width, 3)).astype(np.uint8)\n",
    "\n",
    "import os\n",
    "\n",
    "def load_image_paths_from_folder(folder):\n",
    "    images = []\n",
    "    for imfolder in os.listdir(folder):\n",
    "         path = os.path.join(folder,imfolder)\n",
    "         if os.path.isdir(path):\n",
    "             for image in os.listdir(path):\n",
    "                img = os.path.join(path,image)\n",
    "                extension = image[12:]\n",
    "                if extension == '.jpg':\n",
    "                    images.append(img)\n",
    "    return images"
   ]
  },
  {
   "cell_type": "markdown",
   "metadata": {},
   "source": [
    "# Detection"
   ]
  },
  {
   "cell_type": "code",
   "execution_count": 115,
   "metadata": {},
   "outputs": [
    {
     "name": "stdout",
     "output_type": "stream",
     "text": [
      "num images: \n",
      "27\n"
     ]
    }
   ],
   "source": [
    "# For the sake of simplicity we will use only 2 images:\n",
    "# image1.jpg\n",
    "# image2.jpg\n",
    "# If you want to test the code with your images, just add path to the images to the TEST_IMAGE_PATHS.\n",
    "PATH_TO_TEST_IMAGES_DIR = 'test'\n",
    "#TEST_IMAGE_PATHS = [ os.path.join(PATH_TO_TEST_IMAGES_DIR, 'image{}.jpg'.format(i)) for i in range(1, 3) ]\n",
    "#TEST_IMAGE_PATHS = ['test/0cdc891a-86fe-44fd-9bf7-e2dbcd124198/000000_image.jpg',\n",
    "#                    'test/16ce356c-c170-4fed-92a0-099ce558165d/000000_image.jpg',\n",
    "#                    'test/38ced1e8-30fd-405a-b30a-31ef74e68ec4/000000_image.jpg']\n",
    "TEST_IMAGE_PATHS = load_image_paths_from_folder(PATH_TO_TEST_IMAGES_DIR)\n",
    "print('num images: ')\n",
    "print(len(TEST_IMAGE_PATHS))\n",
    "# Size, in inches, of the output images.\n",
    "IMAGE_SIZE = (12, 8)"
   ]
  },
  {
   "cell_type": "code",
   "execution_count": 107,
   "metadata": {
    "scrolled": true
   },
   "outputs": [
    {
     "name": "stdout",
     "output_type": "stream",
     "text": [
      "guid/image,N\n",
      "01bb984a-d3f1-4ba5-b0c0-5242533efa4d/001,2\n",
      "a6bc91eb-865e-40c8-b081-a024cf52204c/002,13\n",
      "7adb655d-9b1e-44cd-86f5-2995d0cfd1e9/003,6\n",
      "fdf23cc5-6850-4507-996e-3e75cec90b5f/004,0\n",
      "59f19071-a9b1-4de8-b7fd-2a862d2ae674/005,0\n",
      "7363cba9-9fbb-4fd2-8c07-e46bed2e1f33/006,2\n",
      "38ced1e8-30fd-405a-b30a-31ef74e68ec4/007,1\n",
      "8cf96965-9458-4a9b-95b8-c1834646593d/008,12\n",
      "3dad7d96-97ed-4b4f-b486-2c2f2f246789/009,5\n",
      "4819ef9e-e93e-479b-a613-dca8f9be3d45/010,2\n",
      "0cdc891a-86fe-44fd-9bf7-e2dbcd124198/011,0\n",
      "702b3144-fd17-42da-a31f-9e1c1c0cb378/012,0\n",
      "9d602547-bdf8-45e3-9b16-81c6fe9338e4/013,11\n",
      "354dec7e-0a1a-4aea-bf5a-29c4242f6b67/014,0\n",
      "77d40a22-9c26-4258-a3cc-a92789bd692e/015,1\n",
      "219823c2-0f54-44ed-a0db-597ff010c129/016,1\n",
      "dfcc9608-7201-4baf-bd7c-d11e9c1c35b0/017,0\n",
      "16ce356c-c170-4fed-92a0-099ce558165d/018,0\n",
      "b2365de5-858e-40b3-b782-68fdc6068389/019,6\n",
      "cae353f6-912b-47fe-863a-57e999677dda/020,2\n",
      "89e5e4af-ec1b-4a22-b79e-62fd95421357/021,2\n",
      "a0c42e03-aaf8-40ca-954f-aadb74b83d53/022,4\n",
      "6662fdd2-4512-4fce-84b0-717edcd5f54c/023,13\n",
      "70255038-5b42-499a-b0b7-618e53977520/024,2\n",
      "a2b213b1-a613-4e3b-9123-3ada0561e1d3/025,0\n",
      "abd0019d-44ca-4985-aa27-599ab1d44aad/026,0\n",
      "c16c3814-2f5a-48a9-85ff-5a33795eba0e/027,0\n",
      "count of cars: \n",
      "85\n",
      "average count: \n",
      "3.1481481481481484\n"
     ]
    }
   ],
   "source": [
    "with detection_graph.as_default():\n",
    "  with tf.Session(graph=detection_graph) as sess:\n",
    "    # Definite input and output Tensors for detection_graph\n",
    "    image_tensor = detection_graph.get_tensor_by_name('image_tensor:0')\n",
    "    # Each box represents a part of the image where a particular object was detected.\n",
    "    detection_boxes = detection_graph.get_tensor_by_name('detection_boxes:0')\n",
    "    # Each score represent how level of confidence for each of the objects.\n",
    "    # Score is shown on the result image, together with the class label.\n",
    "    detection_scores = detection_graph.get_tensor_by_name('detection_scores:0')\n",
    "    detection_classes = detection_graph.get_tensor_by_name('detection_classes:0')\n",
    "    num_detections = detection_graph.get_tensor_by_name('num_detections:0')\n",
    "    count = 0\n",
    "    ith = 1\n",
    "    print('guid/image,N')\n",
    "    for image_path in TEST_IMAGE_PATHS:\n",
    "        image = Image.open(image_path)\n",
    "        # the array based representation of the image will be used later in order to prepare the\n",
    "        # result image with boxes and labels on it.\n",
    "        image_np = load_image_into_numpy_array(image)\n",
    "        # Expand dimensions since the model expects images to have shape: [1, None, None, 3]\n",
    "        image_np_expanded = np.expand_dims(image_np, axis=0)\n",
    "        # Actual detection.\n",
    "        (boxes, scores, classes, num) = sess.run(\n",
    "          [detection_boxes, detection_scores, detection_classes, num_detections],\n",
    "          feed_dict={image_tensor: image_np_expanded})\n",
    "\n",
    "        out = image_path[5:42]\n",
    "        img_num = str(ith)\n",
    "        num_zeroes = 4-len(img_num)\n",
    "        for i in range(1,num_zeroes):\n",
    "            out = out + '0'\n",
    "        out = out + img_num + ','\n",
    "      \n",
    "        perimagecount = 0;\n",
    "        final_class = np.squeeze(classes)\n",
    "        final_scores = np.squeeze(scores)\n",
    "        for i in range(100):\n",
    "            if final_class[i] == 7:\n",
    "                perimagecount = perimagecount + 1\n",
    "        count = count + perimagecount\n",
    "        out = out + str(perimagecount)\n",
    "        print(out)\n",
    "        ith = ith + 1  \n",
    "        '''if ith == 15:\n",
    "            # Visualization of the results of a detection.\n",
    "            vis_util.visualize_boxes_and_labels_on_image_array(\n",
    "            image_np,\n",
    "            np.squeeze(boxes),\n",
    "            np.squeeze(classes).astype(np.int32),\n",
    "            np.squeeze(scores),\n",
    "            category_index,\n",
    "            use_normalized_coordinates=True,\n",
    "            line_thickness=8)\n",
    "            plt.figure(figsize=IMAGE_SIZE)\n",
    "            plt.imshow(image_np)'''\n",
    "    print('count of cars: ')\n",
    "    print(count)\n",
    "    print('average count: ')\n",
    "    print(count/len(TEST_IMAGE_PATHS))"
   ]
  },
  {
   "cell_type": "code",
   "execution_count": null,
   "metadata": {
    "collapsed": true
   },
   "outputs": [],
   "source": []
  }
 ],
 "metadata": {
  "kernelspec": {
   "display_name": "Python 3",
   "language": "python",
   "name": "python3"
  },
  "language_info": {
   "codemirror_mode": {
    "name": "ipython",
    "version": 3
   },
   "file_extension": ".py",
   "mimetype": "text/x-python",
   "name": "python",
   "nbconvert_exporter": "python",
   "pygments_lexer": "ipython3",
   "version": "3.6.1"
  }
 },
 "nbformat": 4,
 "nbformat_minor": 2
}
